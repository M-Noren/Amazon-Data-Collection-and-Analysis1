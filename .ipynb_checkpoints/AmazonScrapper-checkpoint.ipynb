{
 "cells": [
  {
   "cell_type": "markdown",
   "metadata": {},
   "source": [
    "# Amazon Data Collection"
   ]
  },
  {
   "cell_type": "markdown",
   "metadata": {},
   "source": [
    "###### This project is meant to serve as an exercise for web scrapping and database creation. We begin with the retrieval of jean reviews from Amazon listings to create a database for future analysis.\n",
    "\n",
    "###### After retrieving the data, we will perform data tranformation to ensure each column's use in Tableau visualization. "
   ]
  },
  {
   "cell_type": "code",
   "execution_count": 6,
   "metadata": {},
   "outputs": [],
   "source": [
    "# standard library imports\n",
    "import csv\n",
    "from datetime import datetime\n",
    "import re\n",
    "\n",
    "\n",
    "# third-party imports\n",
    "from bs4 import BeautifulSoup\n",
    "from selenium import webdriver\n",
    "import pandas as pd"
   ]
  },
  {
   "cell_type": "markdown",
   "metadata": {},
   "source": [
    "## Startup the webdriver"
   ]
  },
  {
   "cell_type": "markdown",
   "metadata": {},
   "source": [
    "###### Normally an API is used for data acquisition from an external webpage. Unfortunately, Amazon does not offer a webstore API for free. Instead, we will be taking advantage of ChromeDriver, an executable used by Selnium's Webdriver to automate user processes on a browser. ChromeDriver will allow us to open each Amazon webpage, inspect, and analyze its HTML, a slow but admissable solution. Please refer to [this](https://chromedriver.chromium.org/getting-started) article to learn more about ChromeDriver.\n",
    "\n",
    "###### You can download ChromeDriver [here](https://sites.google.com/chromium.org/driver/downloads?authuser=0)."
   ]
  },
  {
   "cell_type": "code",
   "execution_count": 11,
   "metadata": {},
   "outputs": [],
   "source": [
    "# create an object to initialize Chromedriver\n",
    "driver = webdriver.Chrome() # ensure you have downloaded the correct version of ChromeDriver in directory"
   ]
  },
  {
   "cell_type": "markdown",
   "metadata": {},
   "source": [
    "###### To ensure versatility, the function below takes a search term and generates an Amazon url with search results."
   ]
  },
  {
   "cell_type": "code",
   "execution_count": 12,
   "metadata": {},
   "outputs": [],
   "source": [
    "def get_url(search_term):\n",
    "    \"\"\"generate a url from search term\"\"\"\n",
    "    template = 'https://www.amazon.com/s?k={}&ref=nb_sb_noss_2' # blank Amazon search url\n",
    "    search_term = search_term.replace(' ', '+') # reformat spaces for url\n",
    "    return template.format(search_term) #.format replaces the brackets '{}' with the search term"
   ]
  },
  {
   "cell_type": "code",
   "execution_count": 6,
   "metadata": {},
   "outputs": [
    {
     "name": "stdout",
     "output_type": "stream",
     "text": [
      "https://www.amazon.com/s?k=monitor&ref=nb_sb_noss_2\n"
     ]
    }
   ],
   "source": [
    "url = get_url('monitor')\n",
    "print(url)"
   ]
  },
  {
   "cell_type": "code",
   "execution_count": 7,
   "metadata": {},
   "outputs": [],
   "source": [
    "driver.get(url) # load the webpage for the provided url"
   ]
  },
  {
   "cell_type": "markdown",
   "metadata": {},
   "source": [
    "## Extract the collection"
   ]
  },
  {
   "cell_type": "code",
   "execution_count": 8,
   "metadata": {},
   "outputs": [],
   "source": [
    "soup = BeautifulSoup(driver.page_source, 'html.parser')"
   ]
  },
  {
   "cell_type": "code",
   "execution_count": 9,
   "metadata": {},
   "outputs": [],
   "source": [
    "# find all div tags that have the component type of a search result\n",
    "results = soup.find_all('div', {'data-component-type': 's-search-result'})"
   ]
  },
  {
   "cell_type": "code",
   "execution_count": 10,
   "metadata": {},
   "outputs": [
    {
     "data": {
      "text/plain": [
       "22"
      ]
     },
     "execution_count": 10,
     "metadata": {},
     "output_type": "execute_result"
    }
   ],
   "source": [
    "len(results)"
   ]
  },
  {
   "cell_type": "code",
   "execution_count": 11,
   "metadata": {},
   "outputs": [],
   "source": [
    "item = results[0]"
   ]
  },
  {
   "cell_type": "markdown",
   "metadata": {},
   "source": [
    "###### This is the first item in our search result. It has a lot more html then we'd expect because of the extra sponsored content inserted\n"
   ]
  },
  {
   "cell_type": "code",
   "execution_count": 12,
   "metadata": {
    "collapsed": true,
    "jupyter": {
     "outputs_hidden": true
    }
   },
   "outputs": [
    {
     "data": {
      "text/plain": [
       "<div class=\"s-result-item s-asin sg-col-0-of-12 sg-col-16-of-20 AdHolder sg-col sg-col-12-of-16\" data-asin=\"B08LP22STD\" data-component-id=\"1\" data-component-type=\"s-search-result\" data-index=\"1\" data-uuid=\"15e882de-2343-48e7-9dc6-d5c36ba671e0\"><div class=\"sg-col-inner\">\n",
       "<span cel_widget_id=\"MAIN-SEARCH_RESULTS-1\" class=\"celwidget slot=MAIN template=SEARCH_RESULTS widgetId=search-results_1\" data-csa-c-id=\"lgq9go-oww6e-vzl30o-of7833\">\n",
       "<div class=\"rush-component\" data-component-id=\"2\" data-component-props='{\"percentageShownToFire\":\"50\",\"batchable\":true,\"requiredElementSelector\":\".s-image\",\"url\":\"https://www.amazon.com/gp/sponsored-products/logging/log-action.html?qualifier=1629302623&amp;id=1914416886450696&amp;widgetName=sp_atf&amp;adId=200052549831381&amp;eventType=1&amp;adIndex=0\"}' data-component-type=\"s-impression-logger\">\n",
       "<div class=\"rush-component\" data-component-id=\"3\" data-component-type=\"sp-sponsored-result\">\n",
       "<div class=\"s-expand-height s-include-content-margin s-latency-cf-section s-border-bottom\"><div class=\"a-section a-spacing-medium\"><div class=\"sg-row\"><div class=\"a-section a-spacing-micro s-min-height-small\"></div></div><div class=\"sg-row\"><div class=\"sg-col sg-col-4-of-12 sg-col-4-of-16 sg-col-4-of-20\"><div class=\"sg-col-inner\"><div class=\"a-section a-spacing-none\"><span class=\"rush-component\" data-component-id=\"4\" data-component-type=\"s-product-image\"><a class=\"a-link-normal s-no-outline\" href=\"/gp/slredirect/picassoRedirect.html/ref=pa_sp_atf_aps_sr_pg1_1?ie=UTF8&amp;adId=A01603532Z48PVZG5XPUU&amp;url=%2FTrio-Portable-Monitor-14-1-Display%2Fdp%2FB08LP22STD%2Fref%3Dsr_1_1_sspa%3Fdchild%3D1%26keywords%3Dmonitor%26qid%3D1629302623%26sr%3D8-1-spons%26psc%3D1%26smid%3DAC2D8CHU2486J&amp;qualifier=1629302623&amp;id=1914416886450696&amp;widgetName=sp_atf\"><div class=\"a-section aok-relative s-image-fixed-height\"><img alt='Sponsored Ad - Trio Max Portable Monitor for Laptop, Mobile Pixels 14.1\" Full HD IPS Display, Dual or Triple Laptop Monito...' class=\"s-image\" data-image-index=\"1\" data-image-latency=\"s-product-image\" data-image-load=\"\" data-image-source-density=\"1\" src=\"https://m.media-amazon.com/images/I/81lHdmmAyrL._AC_UY218_.jpg\" srcset=\"https://m.media-amazon.com/images/I/81lHdmmAyrL._AC_UY218_.jpg 1x, https://m.media-amazon.com/images/I/81lHdmmAyrL._AC_UY327_FMwebp_QL65_.jpg 1.5x, https://m.media-amazon.com/images/I/81lHdmmAyrL._AC_UY436_FMwebp_QL65_.jpg 2x, https://m.media-amazon.com/images/I/81lHdmmAyrL._AC_UY545_FMwebp_QL65_.jpg 2.5x, https://m.media-amazon.com/images/I/81lHdmmAyrL._AC_UY654_FMwebp_QL65_.jpg 3x\"/></div></a></span></div></div></div><div class=\"sg-col sg-col-4-of-12 sg-col-8-of-16 sg-col-12-of-20\"><div class=\"sg-col-inner\"><div class=\"a-section a-spacing-none\"><div class=\"a-section a-spacing-none\"><div class=\"a-row a-spacing-micro\"><span class=\"a-declarative\" data-a-popover='{\"closeButton\":\"true\",\"dataStrategy\":\"preload\",\"name\":\"sp-info-popover-B08LP22STD\",\"position\":\"triggerVertical\"}' data-action=\"a-popover\"><a aria-label=\"View Sponsored information or leave ad feedback\" class=\"s-label-popover s-sponsored-label-text\" href=\"javascript:void(0)\" role=\"button\" style=\"text-decoration: none;\"><span class=\"s-label-popover-default\"><span class=\"a-color-secondary\">Sponsored</span></span><span class=\"s-label-popover-hover\"><span class=\"a-color-base\">Sponsored</span></span> <span class=\"aok-inline-block s-sponsored-label-info-icon\"></span></a></span><div class=\"a-popover-preload\" id=\"a-popover-sp-info-popover-B08LP22STD\"><span>You’re seeing this ad based on the product’s relevance to your search query.</span><div class=\"a-row\"><span class=\"a-declarative\" data-action=\"s-safe-ajax-modal-trigger\" data-s-safe-ajax-modal-trigger='{\"ajaxUrl\":\"/gp/aq-feedback/lazyLoad/handler/af-sp-form-handler.html?pl=%7B%22adPlacementMetaData%22%3A%7B%22searchTerms%22%3A%22QjA4TFAyMlNURA%3D%3D%22%2C%22pageType%22%3A%22Search%22%2C%22feedbackType%22%3A%22sponsoredProductsLoom%22%2C%22slotName%22%3A%22TOP%22%7D%2C%22adCreativeMetaData%22%3A%7B%22adProgramId%22%3A1024%2C%22adCreativeDetails%22%3A%5B%7B%22asin%22%3A%22B08LP22STD%22%2C%22title%22%3A%22Trio+Max+Portable+Monitor+for+Laptop%2C+Mobile+Pixels+14.1%5C%22+Full+HD+IPS+Display%2C+Dual+or+Triple+Laptop%22%2C%22priceInfo%22%3A%7B%22amount%22%3A309.0%2C%22currencyCode%22%3A%22USD%22%7D%2C%22sku%22%3A%22trio+max+B%22%2C%22adId%22%3A%22A01603532Z48PVZG5XPUU%22%2C%22campaignId%22%3A%22A081486827AG8Y9184BBR%22%7D%5D%7D%7D\",\"dataStrategy\":\"ajax\",\"header\":\"Share your feedback\"}'><a class=\"a-link-normal\" href=\"#\"><span>Leave ad feedback</span> </a> </span></div></div></div><h2 class=\"a-size-mini a-spacing-none a-color-base s-line-clamp-2\"><a class=\"a-link-normal a-text-normal\" href=\"/gp/slredirect/picassoRedirect.html/ref=pa_sp_atf_aps_sr_pg1_1?ie=UTF8&amp;adId=A01603532Z48PVZG5XPUU&amp;url=%2FTrio-Portable-Monitor-14-1-Display%2Fdp%2FB08LP22STD%2Fref%3Dsr_1_1_sspa%3Fdchild%3D1%26keywords%3Dmonitor%26qid%3D1629302623%26sr%3D8-1-spons%26psc%3D1%26smid%3DAC2D8CHU2486J&amp;qualifier=1629302623&amp;id=1914416886450696&amp;widgetName=sp_atf\"><span class=\"a-size-medium a-color-base a-text-normal\">Trio Max Portable Monitor for Laptop, Mobile Pixels 14.1\" Full HD IPS Display, Dual or Triple Laptop Monitor Screen, USB A/Type-C Plug and Play Monitor for 13”-17” Laptops(1x 14.1 Monitor)</span> </a> </h2></div><div class=\"a-section a-spacing-none a-spacing-top-micro\"><div class=\"a-row a-size-small\"><span aria-label=\"4.2 out of 5 stars\"><span class=\"a-declarative\" data-a-popover='{\"closeButton\":false,\"closeButtonLabel\":\"\",\"position\":\"triggerBottom\",\"popoverLabel\":\"\",\"url\":\"/review/widgets/average-customer-review/popover/ref=acr_search__popover?ie=UTF8&amp;asin=B08LP22STD&amp;ref=acr_search__popover&amp;contextId=search\"}' data-action=\"a-popover\"><a class=\"a-popover-trigger a-declarative\" href=\"javascript:void(0)\"><i class=\"a-icon a-icon-star-small a-star-small-4 aok-align-bottom\"><span class=\"a-icon-alt\">4.2 out of 5 stars</span></i><i class=\"a-icon a-icon-popover\"></i></a></span> </span><span aria-label=\"442\"><a class=\"a-link-normal\" href=\"/gp/slredirect/picassoRedirect.html/ref=pa_sp_atf_aps_sr_pg1_1?ie=UTF8&amp;adId=A01603532Z48PVZG5XPUU&amp;url=%2FTrio-Portable-Monitor-14-1-Display%2Fdp%2FB08LP22STD%2Fref%3Dsr_1_1_sspa%3Fdchild%3D1%26keywords%3Dmonitor%26qid%3D1629302623%26sr%3D8-1-spons%26psc%3D1%26smid%3DAC2D8CHU2486J&amp;qualifier=1629302623&amp;id=1914416886450696&amp;widgetName=sp_atf#customerReviews\"><span class=\"a-size-base\">442</span> </a> </span></div></div><div class=\"sg-row\"><div class=\"sg-col sg-col-4-of-12 sg-col-4-of-16 sg-col-4-of-20\"><div class=\"sg-col-inner\"><div class=\"a-section a-spacing-none a-spacing-top-small\"><div class=\"a-row a-size-base a-color-base\"><a class=\"a-size-base a-link-normal a-text-normal\" href=\"/gp/slredirect/picassoRedirect.html/ref=pa_sp_atf_aps_sr_pg1_1?ie=UTF8&amp;adId=A01603532Z48PVZG5XPUU&amp;url=%2FTrio-Portable-Monitor-14-1-Display%2Fdp%2FB08LP22STD%2Fref%3Dsr_1_1_sspa%3Fdchild%3D1%26keywords%3Dmonitor%26qid%3D1629302623%26sr%3D8-1-spons%26psc%3D1%26smid%3DAC2D8CHU2486J&amp;qualifier=1629302623&amp;id=1914416886450696&amp;widgetName=sp_atf\"><span class=\"a-price\" data-a-color=\"base\" data-a-size=\"l\"><span class=\"a-offscreen\">$309.00</span><span aria-hidden=\"true\"><span class=\"a-price-symbol\">$</span><span class=\"a-price-whole\">309<span class=\"a-price-decimal\">.</span></span><span class=\"a-price-fraction\">00</span></span></span> <span class=\"a-price a-text-price\" data-a-color=\"secondary\" data-a-size=\"b\" data-a-strike=\"true\"><span class=\"a-offscreen\">$349.99</span><span aria-hidden=\"true\">$349.99</span></span> </a> <span class=\"a-letter-space\"></span></div><div class=\"a-row a-size-base a-color-secondary\"><span class=\"rush-component\" data-component-id=\"5\" data-component-props='{\"asin\":\"B08LP22STD\"}' data-component-type=\"s-coupon-component\"><span class=\"s-coupon-clipped aok-hidden\"><span class=\"a-color-base\">$20.00 coupon applied at checkout</span></span><span class=\"s-coupon-unclipped\"><span class=\"a-size-base s-highlighted-text-padding aok-inline-block s-coupon-highlight-color\">Save $20.00</span> <span class=\"a-color-base\"> with coupon</span></span></span> </div></div><div class=\"a-section a-spacing-none a-spacing-top-micro\"><div class=\"a-row a-size-base a-color-secondary s-align-children-center\"><div class=\"a-row s-align-children-center\"><span class=\"aok-inline-block s-image-logo-view\"><span class=\"aok-relative s-icon-text-medium s-prime\"><i aria-label=\"Amazon Prime\" class=\"a-icon a-icon-prime a-icon-medium\" role=\"img\"></i></span><span></span></span> <span aria-label=\"Get it as soon as Tomorrow, Aug 19\"><span>Get it as soon as </span><span class=\"a-text-bold\">Tomorrow, Aug 19</span></span></div><div class=\"a-row\"><span aria-label=\"FREE Shipping by Amazon\"><span>FREE Shipping by Amazon</span></span></div></div></div></div></div><div class=\"sg-col sg-col-4-of-12 sg-col-4-of-16 sg-col-8-of-20\"><div class=\"sg-col-inner\"><div class=\"a-section a-spacing-none a-spacing-top-small\"><div class=\"sg-row s-product-specs-view\"><div class=\"sg-col sg-col-0-of-12 sg-col-0-of-16 sg-col-2-of-20\"><div class=\"sg-col-inner\"><span>Display Size</span><br class=\"row-separator\"/><span class=\"a-text-bold\">14.1 inches</span></div></div><div class=\"sg-col sg-col-0-of-12 sg-col-0-of-16 sg-col-2-of-20\"><div class=\"sg-col-inner\"><span>Refresh Rate</span><br class=\"row-separator\"/><span class=\"a-text-bold\">60 hertz</span></div></div><div class=\"sg-col sg-col-0-of-12 sg-col-0-of-16 sg-col-2-of-20\"><div class=\"sg-col-inner\"><span>Resolution</span><br class=\"row-separator\"/><span class=\"a-text-bold\">FHD 1080p</span></div></div><div class=\"sg-col sg-col-0-of-12 sg-col-0-of-16 sg-col-2-of-20\"><div class=\"sg-col-inner\"><span>Response Time</span><br class=\"row-separator\"/><span class=\"a-text-bold\">5.00 milliseconds</span></div></div></div></div></div></div></div></div></div></div></div></div></div>\n",
       "</div>\n",
       "</div>\n",
       "</span>\n",
       "</div></div>"
      ]
     },
     "execution_count": 12,
     "metadata": {},
     "output_type": "execute_result"
    }
   ],
   "source": [
    "item"
   ]
  },
  {
   "cell_type": "code",
   "execution_count": 13,
   "metadata": {},
   "outputs": [],
   "source": [
    "# we can retrieve the atag under the h2 tag\n",
    "atag = item.h2.a"
   ]
  },
  {
   "cell_type": "code",
   "execution_count": 14,
   "metadata": {},
   "outputs": [],
   "source": [
    "#We retrieve the item's description using the text linked to the hyperlink, strip() removes the extra spaces\n",
    "description = atag.text.strip()"
   ]
  },
  {
   "cell_type": "code",
   "execution_count": 15,
   "metadata": {},
   "outputs": [],
   "source": [
    "#Because the link is a hyperlink, we must add the amazon domain to make it a full link\n",
    "url = 'https://www.amazon.com' + atag.get('href')"
   ]
  },
  {
   "cell_type": "code",
   "execution_count": 16,
   "metadata": {},
   "outputs": [],
   "source": [
    "#We begin to obtain the item's price by first finding the span tag with the a-price class\n",
    "price_parent = item.find('span', 'a-price')"
   ]
  },
  {
   "cell_type": "code",
   "execution_count": 17,
   "metadata": {},
   "outputs": [],
   "source": [
    "#Now that we have the price parent, we can find the span tag within it that has the a-offscreen class\n",
    "price = price_parent.find('span', 'a-offscreen').text"
   ]
  },
  {
   "cell_type": "code",
   "execution_count": 18,
   "metadata": {},
   "outputs": [],
   "source": [
    "rating = item.i.text"
   ]
  },
  {
   "cell_type": "code",
   "execution_count": 19,
   "metadata": {},
   "outputs": [
    {
     "data": {
      "text/plain": [
       "'4.2 out of 5 stars'"
      ]
     },
     "execution_count": 19,
     "metadata": {},
     "output_type": "execute_result"
    }
   ],
   "source": [
    "rating"
   ]
  },
  {
   "cell_type": "code",
   "execution_count": 20,
   "metadata": {},
   "outputs": [],
   "source": [
    "review_count = item.find('span', 'a-size-base').text"
   ]
  },
  {
   "cell_type": "markdown",
   "metadata": {},
   "source": [
    "## Generalize the pattern"
   ]
  },
  {
   "cell_type": "code",
   "execution_count": 21,
   "metadata": {},
   "outputs": [],
   "source": [
    "def extract_record(item):\n",
    "    \"\"\"Extract and return data from a single record\"\"\"\n",
    "    \n",
    "    # description and url\n",
    "    atag = item.h2.a\n",
    "    description = atag.text.strip()\n",
    "    url = 'https://www.amazon.com' + atag.get('href')\n",
    "    \n",
    "    # Error handlling: we need to handle the attribute error caused by missing data, not every item has a price or rating\n",
    "    try:\n",
    "        # price\n",
    "        price_parent = item.find('span', 'a-price')\n",
    "        price = price_parent.find('span', 'a-offscreen').text\n",
    "    except AttributeError:\n",
    "        return\n",
    "    \n",
    "    try:\n",
    "        # rank and rating\n",
    "        rating = item.i.text\n",
    "        review_count = item.find('span', 'a-size-base').text\n",
    "    except AttributeError:\n",
    "        rating = ''\n",
    "        review_count = ''\n",
    "        \n",
    "        \n",
    "    result = (description, price, rating, review_count, url)\n",
    "    \n",
    "    return result"
   ]
  },
  {
   "cell_type": "markdown",
   "metadata": {},
   "source": [
    "## Error handling"
   ]
  },
  {
   "cell_type": "code",
   "execution_count": 22,
   "metadata": {},
   "outputs": [],
   "source": [
    "records = []\n",
    "results = soup.find_all('div', {'data-component-type': 's-search-result'})\n",
    "\n",
    "for item in results:\n",
    "    record = extract_record(item)\n",
    "    # this way we only append records that are not empty\n",
    "    if record:\n",
    "        records.append(extract_record(item))"
   ]
  },
  {
   "cell_type": "code",
   "execution_count": 26,
   "metadata": {},
   "outputs": [
    {
     "data": {
      "text/plain": [
       "('Trio Max Portable Monitor for Laptop, Mobile Pixels 14.1\" Full HD IPS Display, Dual or Triple Laptop Monitor Screen, USB A/Type-C Plug and Play Monitor for 13”-17” Laptops(1x 14.1 Monitor)',\n",
       " '$309.00',\n",
       " '4.2 out of 5 stars',\n",
       " '442',\n",
       " 'https://www.amazon.com/gp/slredirect/picassoRedirect.html/ref=pa_sp_atf_aps_sr_pg1_1?ie=UTF8&adId=A01603532Z48PVZG5XPUU&url=%2FTrio-Portable-Monitor-14-1-Display%2Fdp%2FB08LP22STD%2Fref%3Dsr_1_1_sspa%3Fdchild%3D1%26keywords%3Dmonitor%26qid%3D1629302623%26sr%3D8-1-spons%26psc%3D1%26smid%3DAC2D8CHU2486J&qualifier=1629302623&id=1914416886450696&widgetName=sp_atf')"
      ]
     },
     "execution_count": 26,
     "metadata": {},
     "output_type": "execute_result"
    }
   ],
   "source": [
    "records[0]"
   ]
  },
  {
   "cell_type": "code",
   "execution_count": 24,
   "metadata": {},
   "outputs": [
    {
     "name": "stdout",
     "output_type": "stream",
     "text": [
      "$309.00\n",
      "$1,224.00\n",
      "$129.99\n",
      "$268.00\n",
      "$249.99\n",
      "$296.40\n",
      "$349.99\n",
      "$129.97\n",
      "$104.97\n",
      "$26.45\n",
      "$218.00\n",
      "$636.99\n",
      "$534.98\n",
      "$554.99\n",
      "$199.99\n",
      "$496.99\n",
      "$169.99\n",
      "$196.99\n",
      "$835.00\n",
      "$306.32\n",
      "$19.99\n",
      "$20.99\n"
     ]
    }
   ],
   "source": [
    "for row in records:\n",
    "    print(row[1])"
   ]
  },
  {
   "cell_type": "markdown",
   "metadata": {},
   "source": [
    "## Getting the next page"
   ]
  },
  {
   "cell_type": "code",
   "execution_count": null,
   "metadata": {},
   "outputs": [],
   "source": [
    "def get_url(search_term):\n",
    "    \"\"\"Generate a url from search term\"\"\"\n",
    "    template = 'https://www.amazon.com/s?k={}&ref=nb_sb_noss_2'\n",
    "    search_term = search_term.replace(' ', '+')\n",
    "    \n",
    "    # add term query to url\n",
    "    url = template.format(search_term)\n",
    "    \n",
    "    # add page query to url\n",
    "    url += '&page={}'\n",
    "    \n",
    "    return url"
   ]
  },
  {
   "cell_type": "markdown",
   "metadata": {},
   "source": [
    "## Putting it all together"
   ]
  },
  {
   "cell_type": "code",
   "execution_count": 29,
   "metadata": {},
   "outputs": [],
   "source": [
    "def get_url(search_term):\n",
    "    \"\"\"Generate a url from search term\"\"\"\n",
    "    template = 'https://www.amazon.com/s?k={}&ref=nb_sb_noss_2'\n",
    "    search_term = search_term.replace(' ', '+')\n",
    "    \n",
    "    # add term query to url\n",
    "    url = template.format(search_term)\n",
    "    \n",
    "    # add page query to url\n",
    "    url += '&page={}'\n",
    "    \n",
    "    return url\n",
    "\n",
    "def extract_record(item):\n",
    "    \"\"\"Extract and return data from a single record\"\"\"\n",
    "    \n",
    "    # description and url\n",
    "    atag = item.h2.a\n",
    "    description = atag.text.strip()\n",
    "    url = 'https://www.amazon.com' + atag.get('href')\n",
    "    \n",
    "    # Error handlling: we need to handle the attribute error caused by missing data, not every item has a price or rating\n",
    "    try:\n",
    "        # price\n",
    "        price_parent = item.find('span', 'a-price')\n",
    "        price = price_parent.find('span', 'a-offscreen').text\n",
    "    except AttributeError:\n",
    "        return\n",
    "    \n",
    "    try:\n",
    "        # rank and rating\n",
    "        rating = item.i.text\n",
    "        review_count = item.find('span', 'a-size-base').text\n",
    "    except AttributeError:\n",
    "        rating = ''\n",
    "        review_count = ''\n",
    "        \n",
    "        \n",
    "    result = (description, price, rating, review_count, url)\n",
    "    \n",
    "    return result\n",
    "\n",
    "\n"
   ]
  },
  {
   "cell_type": "code",
   "execution_count": 30,
   "metadata": {},
   "outputs": [],
   "source": [
    "def main(search_term):\n",
    "    \"\"\"Run main program routine\"\"\"\n",
    "    \n",
    "    # startup web driver\n",
    "    driver = driver = webdriver.Chrome(r'C:\\Users\\marti\\Downloads\\chromedriver.exe')\n",
    "    \n",
    "    records = []\n",
    "    url = get_url(search_term)\n",
    "    \n",
    "    for page in range(1, 21):\n",
    "        driver.get(url.format(page))\n",
    "        soup = BeautifulSoup(driver.page_source, 'html.parser')\n",
    "        results = soup.find_all('div', {'data-component-type': 's-search-result'})\n",
    "        \n",
    "        for item in results:\n",
    "            record = extract_record(item)\n",
    "            if record:\n",
    "                records.append(record)\n",
    "                \n",
    "    driver.close()\n",
    "    \n",
    "    # save data to csv file\n",
    "    with open('results.csv', 'w', newline='', encoding='utf-8') as f:\n",
    "        writer = csv.writer(f)\n",
    "        writer.writerow(['Description', 'Price', 'Rating', 'ReviewCount', 'Url'])\n",
    "        writer.writerows(records) # notice we use \"writerows\" for multiple rows, this uses a list, as opposed to \"writerow\" for a single row\n",
    "        "
   ]
  },
  {
   "cell_type": "code",
   "execution_count": 31,
   "metadata": {
    "collapsed": true,
    "jupyter": {
     "outputs_hidden": true
    }
   },
   "outputs": [
    {
     "ename": "NoSuchWindowException",
     "evalue": "Message: no such window: target window already closed\nfrom unknown error: web view not found\n  (Session info: chrome=92.0.4515.131)\n",
     "output_type": "error",
     "traceback": [
      "\u001b[1;31m---------------------------------------------------------------------------\u001b[0m",
      "\u001b[1;31mNoSuchWindowException\u001b[0m                     Traceback (most recent call last)",
      "\u001b[1;32m<ipython-input-31-9ec65abff071>\u001b[0m in \u001b[0;36m<module>\u001b[1;34m\u001b[0m\n\u001b[1;32m----> 1\u001b[1;33m \u001b[0mmain\u001b[0m\u001b[1;33m(\u001b[0m\u001b[1;34m'monitor'\u001b[0m\u001b[1;33m)\u001b[0m\u001b[1;33m\u001b[0m\u001b[1;33m\u001b[0m\u001b[0m\n\u001b[0m",
      "\u001b[1;32m<ipython-input-30-abf995ac09e9>\u001b[0m in \u001b[0;36mmain\u001b[1;34m(search_term)\u001b[0m\n\u001b[0;32m     10\u001b[0m     \u001b[1;32mfor\u001b[0m \u001b[0mpage\u001b[0m \u001b[1;32min\u001b[0m \u001b[0mrange\u001b[0m\u001b[1;33m(\u001b[0m\u001b[1;36m1\u001b[0m\u001b[1;33m,\u001b[0m \u001b[1;36m21\u001b[0m\u001b[1;33m)\u001b[0m\u001b[1;33m:\u001b[0m\u001b[1;33m\u001b[0m\u001b[1;33m\u001b[0m\u001b[0m\n\u001b[0;32m     11\u001b[0m         \u001b[0mdriver\u001b[0m\u001b[1;33m.\u001b[0m\u001b[0mget\u001b[0m\u001b[1;33m(\u001b[0m\u001b[0murl\u001b[0m\u001b[1;33m.\u001b[0m\u001b[0mformat\u001b[0m\u001b[1;33m(\u001b[0m\u001b[0mpage\u001b[0m\u001b[1;33m)\u001b[0m\u001b[1;33m)\u001b[0m\u001b[1;33m\u001b[0m\u001b[1;33m\u001b[0m\u001b[0m\n\u001b[1;32m---> 12\u001b[1;33m         \u001b[0msoup\u001b[0m \u001b[1;33m=\u001b[0m \u001b[0mBeautifulSoup\u001b[0m\u001b[1;33m(\u001b[0m\u001b[0mdriver\u001b[0m\u001b[1;33m.\u001b[0m\u001b[0mpage_source\u001b[0m\u001b[1;33m,\u001b[0m \u001b[1;34m'html.parser'\u001b[0m\u001b[1;33m)\u001b[0m\u001b[1;33m\u001b[0m\u001b[1;33m\u001b[0m\u001b[0m\n\u001b[0m\u001b[0;32m     13\u001b[0m         \u001b[0mresults\u001b[0m \u001b[1;33m=\u001b[0m \u001b[0msoup\u001b[0m\u001b[1;33m.\u001b[0m\u001b[0mfind_all\u001b[0m\u001b[1;33m(\u001b[0m\u001b[1;34m'div'\u001b[0m\u001b[1;33m,\u001b[0m \u001b[1;33m{\u001b[0m\u001b[1;34m'data-component-type'\u001b[0m\u001b[1;33m:\u001b[0m \u001b[1;34m's-search-result'\u001b[0m\u001b[1;33m}\u001b[0m\u001b[1;33m)\u001b[0m\u001b[1;33m\u001b[0m\u001b[1;33m\u001b[0m\u001b[0m\n\u001b[0;32m     14\u001b[0m \u001b[1;33m\u001b[0m\u001b[0m\n",
      "\u001b[1;32m~\\anaconda3\\lib\\site-packages\\selenium\\webdriver\\remote\\webdriver.py\u001b[0m in \u001b[0;36mpage_source\u001b[1;34m(self)\u001b[0m\n\u001b[0;32m    677\u001b[0m             \u001b[0mdriver\u001b[0m\u001b[1;33m.\u001b[0m\u001b[0mpage_source\u001b[0m\u001b[1;33m\u001b[0m\u001b[1;33m\u001b[0m\u001b[0m\n\u001b[0;32m    678\u001b[0m         \"\"\"\n\u001b[1;32m--> 679\u001b[1;33m         \u001b[1;32mreturn\u001b[0m \u001b[0mself\u001b[0m\u001b[1;33m.\u001b[0m\u001b[0mexecute\u001b[0m\u001b[1;33m(\u001b[0m\u001b[0mCommand\u001b[0m\u001b[1;33m.\u001b[0m\u001b[0mGET_PAGE_SOURCE\u001b[0m\u001b[1;33m)\u001b[0m\u001b[1;33m[\u001b[0m\u001b[1;34m'value'\u001b[0m\u001b[1;33m]\u001b[0m\u001b[1;33m\u001b[0m\u001b[1;33m\u001b[0m\u001b[0m\n\u001b[0m\u001b[0;32m    680\u001b[0m \u001b[1;33m\u001b[0m\u001b[0m\n\u001b[0;32m    681\u001b[0m     \u001b[1;32mdef\u001b[0m \u001b[0mclose\u001b[0m\u001b[1;33m(\u001b[0m\u001b[0mself\u001b[0m\u001b[1;33m)\u001b[0m\u001b[1;33m:\u001b[0m\u001b[1;33m\u001b[0m\u001b[1;33m\u001b[0m\u001b[0m\n",
      "\u001b[1;32m~\\anaconda3\\lib\\site-packages\\selenium\\webdriver\\remote\\webdriver.py\u001b[0m in \u001b[0;36mexecute\u001b[1;34m(self, driver_command, params)\u001b[0m\n\u001b[0;32m    319\u001b[0m         \u001b[0mresponse\u001b[0m \u001b[1;33m=\u001b[0m \u001b[0mself\u001b[0m\u001b[1;33m.\u001b[0m\u001b[0mcommand_executor\u001b[0m\u001b[1;33m.\u001b[0m\u001b[0mexecute\u001b[0m\u001b[1;33m(\u001b[0m\u001b[0mdriver_command\u001b[0m\u001b[1;33m,\u001b[0m \u001b[0mparams\u001b[0m\u001b[1;33m)\u001b[0m\u001b[1;33m\u001b[0m\u001b[1;33m\u001b[0m\u001b[0m\n\u001b[0;32m    320\u001b[0m         \u001b[1;32mif\u001b[0m \u001b[0mresponse\u001b[0m\u001b[1;33m:\u001b[0m\u001b[1;33m\u001b[0m\u001b[1;33m\u001b[0m\u001b[0m\n\u001b[1;32m--> 321\u001b[1;33m             \u001b[0mself\u001b[0m\u001b[1;33m.\u001b[0m\u001b[0merror_handler\u001b[0m\u001b[1;33m.\u001b[0m\u001b[0mcheck_response\u001b[0m\u001b[1;33m(\u001b[0m\u001b[0mresponse\u001b[0m\u001b[1;33m)\u001b[0m\u001b[1;33m\u001b[0m\u001b[1;33m\u001b[0m\u001b[0m\n\u001b[0m\u001b[0;32m    322\u001b[0m             response['value'] = self._unwrap_value(\n\u001b[0;32m    323\u001b[0m                 response.get('value', None))\n",
      "\u001b[1;32m~\\anaconda3\\lib\\site-packages\\selenium\\webdriver\\remote\\errorhandler.py\u001b[0m in \u001b[0;36mcheck_response\u001b[1;34m(self, response)\u001b[0m\n\u001b[0;32m    240\u001b[0m                 \u001b[0malert_text\u001b[0m \u001b[1;33m=\u001b[0m \u001b[0mvalue\u001b[0m\u001b[1;33m[\u001b[0m\u001b[1;34m'alert'\u001b[0m\u001b[1;33m]\u001b[0m\u001b[1;33m.\u001b[0m\u001b[0mget\u001b[0m\u001b[1;33m(\u001b[0m\u001b[1;34m'text'\u001b[0m\u001b[1;33m)\u001b[0m\u001b[1;33m\u001b[0m\u001b[1;33m\u001b[0m\u001b[0m\n\u001b[0;32m    241\u001b[0m             \u001b[1;32mraise\u001b[0m \u001b[0mexception_class\u001b[0m\u001b[1;33m(\u001b[0m\u001b[0mmessage\u001b[0m\u001b[1;33m,\u001b[0m \u001b[0mscreen\u001b[0m\u001b[1;33m,\u001b[0m \u001b[0mstacktrace\u001b[0m\u001b[1;33m,\u001b[0m \u001b[0malert_text\u001b[0m\u001b[1;33m)\u001b[0m\u001b[1;33m\u001b[0m\u001b[1;33m\u001b[0m\u001b[0m\n\u001b[1;32m--> 242\u001b[1;33m         \u001b[1;32mraise\u001b[0m \u001b[0mexception_class\u001b[0m\u001b[1;33m(\u001b[0m\u001b[0mmessage\u001b[0m\u001b[1;33m,\u001b[0m \u001b[0mscreen\u001b[0m\u001b[1;33m,\u001b[0m \u001b[0mstacktrace\u001b[0m\u001b[1;33m)\u001b[0m\u001b[1;33m\u001b[0m\u001b[1;33m\u001b[0m\u001b[0m\n\u001b[0m\u001b[0;32m    243\u001b[0m \u001b[1;33m\u001b[0m\u001b[0m\n\u001b[0;32m    244\u001b[0m     \u001b[1;32mdef\u001b[0m \u001b[0m_value_or_default\u001b[0m\u001b[1;33m(\u001b[0m\u001b[0mself\u001b[0m\u001b[1;33m,\u001b[0m \u001b[0mobj\u001b[0m\u001b[1;33m,\u001b[0m \u001b[0mkey\u001b[0m\u001b[1;33m,\u001b[0m \u001b[0mdefault\u001b[0m\u001b[1;33m)\u001b[0m\u001b[1;33m:\u001b[0m\u001b[1;33m\u001b[0m\u001b[1;33m\u001b[0m\u001b[0m\n",
      "\u001b[1;31mNoSuchWindowException\u001b[0m: Message: no such window: target window already closed\nfrom unknown error: web view not found\n  (Session info: chrome=92.0.4515.131)\n"
     ]
    }
   ],
   "source": [
    "main('monitor')"
   ]
  },
  {
   "cell_type": "code",
   "execution_count": null,
   "metadata": {},
   "outputs": [],
   "source": [
    "# get review text\n",
    "# get review title\n",
    "# get review brand, also size and color if possible"
   ]
  },
  {
   "cell_type": "code",
   "execution_count": null,
   "metadata": {},
   "outputs": [],
   "source": []
  },
  {
   "cell_type": "code",
   "execution_count": null,
   "metadata": {},
   "outputs": [],
   "source": []
  }
 ],
 "metadata": {
  "kernelspec": {
   "display_name": "Python 3",
   "language": "python",
   "name": "python3"
  },
  "language_info": {
   "codemirror_mode": {
    "name": "ipython",
    "version": 3
   },
   "file_extension": ".py",
   "mimetype": "text/x-python",
   "name": "python",
   "nbconvert_exporter": "python",
   "pygments_lexer": "ipython3",
   "version": "3.8.3"
  }
 },
 "nbformat": 4,
 "nbformat_minor": 4
}
