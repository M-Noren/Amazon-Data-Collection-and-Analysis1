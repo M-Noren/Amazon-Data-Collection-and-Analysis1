{
 "cells": [
  {
   "cell_type": "code",
   "execution_count": 5,
   "metadata": {},
   "outputs": [],
   "source": [
    "import pandas as pd\n"
   ]
  },
  {
   "cell_type": "code",
   "execution_count": 3,
   "metadata": {},
   "outputs": [],
   "source": [
    "df = pd.read_csv('jean_reviews4.csv')\n"
   ]
  },
  {
   "cell_type": "code",
   "execution_count": 15,
   "metadata": {},
   "outputs": [],
   "source": [
    "df = df.astype({\"price_groups\": str})"
   ]
  },
  {
   "cell_type": "code",
   "execution_count": 17,
   "metadata": {},
   "outputs": [
    {
     "data": {
      "text/plain": [
       "dtype('O')"
      ]
     },
     "execution_count": 17,
     "metadata": {},
     "output_type": "execute_result"
    }
   ],
   "source": [
    "df.price_groups.dtype"
   ]
  },
  {
   "cell_type": "code",
   "execution_count": 16,
   "metadata": {},
   "outputs": [],
   "source": [
    "df.to_csv('jean_reviews5.csv', index=False)"
   ]
  },
  {
   "cell_type": "code",
   "execution_count": 48,
   "metadata": {},
   "outputs": [],
   "source": [
    "# df.drop_duplicates(subset=\"review_body\", keep=False, inplace=True)"
   ]
  },
  {
   "cell_type": "code",
   "execution_count": 49,
   "metadata": {},
   "outputs": [],
   "source": [
    "# def get_sentiment(rating):\n",
    "#     sentiment = ''\n",
    "#     if (rating > 3):\n",
    "#         sentiment = 'Positive'\n",
    "#     elif (rating == 3):\n",
    "#         sentiment = 'Neutral'\n",
    "#     else:\n",
    "#         sentiment = 'Negative'\n",
    "#     return sentiment"
   ]
  },
  {
   "cell_type": "code",
   "execution_count": 50,
   "metadata": {},
   "outputs": [],
   "source": [
    "# df['sentiment'] = df['review_rating'].map(get_sentiment)"
   ]
  },
  {
   "cell_type": "code",
   "execution_count": 51,
   "metadata": {},
   "outputs": [],
   "source": [
    "# df.to_csv('jean_reviews3.csv', index=False)\n",
    "# Note: jean_reviews4.csv is just jean_reviews3.csv but with duplicate rows removed"
   ]
  },
  {
   "cell_type": "code",
   "execution_count": 52,
   "metadata": {},
   "outputs": [
    {
     "data": {
      "text/html": [
       "<div>\n",
       "<style scoped>\n",
       "    .dataframe tbody tr th:only-of-type {\n",
       "        vertical-align: middle;\n",
       "    }\n",
       "\n",
       "    .dataframe tbody tr th {\n",
       "        vertical-align: top;\n",
       "    }\n",
       "\n",
       "    .dataframe thead th {\n",
       "        text-align: right;\n",
       "    }\n",
       "</style>\n",
       "<table border=\"1\" class=\"dataframe\">\n",
       "  <thead>\n",
       "    <tr style=\"text-align: right;\">\n",
       "      <th></th>\n",
       "      <th>product_name</th>\n",
       "      <th>price</th>\n",
       "      <th>brand</th>\n",
       "      <th>review_rating</th>\n",
       "      <th>review_title</th>\n",
       "      <th>review_body</th>\n",
       "      <th>review_date</th>\n",
       "      <th>size</th>\n",
       "      <th>prices</th>\n",
       "      <th>review_dates</th>\n",
       "      <th>price_groups</th>\n",
       "      <th>sentiment</th>\n",
       "    </tr>\n",
       "  </thead>\n",
       "  <tbody>\n",
       "    <tr>\n",
       "      <th>0</th>\n",
       "      <td>Perry Ellis Men's Skinny Stretch Denim Jeans</td>\n",
       "      <td>$31.29 - $36.17</td>\n",
       "      <td>Perry Ellis</td>\n",
       "      <td>5.0</td>\n",
       "      <td>Worth the money</td>\n",
       "      <td>Excellent product totally recommended</td>\n",
       "      <td>Reviewed in the United States on September 13,...</td>\n",
       "      <td>NaN</td>\n",
       "      <td>36.17</td>\n",
       "      <td>2020-09-13</td>\n",
       "      <td>$30-$40</td>\n",
       "      <td>Positive</td>\n",
       "    </tr>\n",
       "    <tr>\n",
       "      <th>1</th>\n",
       "      <td>Perry Ellis Men's Skinny Stretch Denim Jeans</td>\n",
       "      <td>$31.29 - $36.17</td>\n",
       "      <td>Perry Ellis</td>\n",
       "      <td>5.0</td>\n",
       "      <td>Fantastique!</td>\n",
       "      <td>Les jeans stretch de cette marque sont fantast...</td>\n",
       "      <td>Reviewed in Canada on March 19, 2020</td>\n",
       "      <td>31W x 32L</td>\n",
       "      <td>36.17</td>\n",
       "      <td>2020-03-19</td>\n",
       "      <td>$30-$40</td>\n",
       "      <td>Positive</td>\n",
       "    </tr>\n",
       "    <tr>\n",
       "      <th>2</th>\n",
       "      <td>Perry Ellis Men's Skinny Stretch Denim Jeans</td>\n",
       "      <td>$31.29 - $36.17</td>\n",
       "      <td>Perry Ellis</td>\n",
       "      <td>5.0</td>\n",
       "      <td>Super cómodos</td>\n",
       "      <td>Super cómodos</td>\n",
       "      <td>Reviewed in Mexico on April 29, 2021</td>\n",
       "      <td>32W x 34L</td>\n",
       "      <td>36.17</td>\n",
       "      <td>2021-04-29</td>\n",
       "      <td>$30-$40</td>\n",
       "      <td>Positive</td>\n",
       "    </tr>\n",
       "    <tr>\n",
       "      <th>3</th>\n",
       "      <td>Kikwear 32\" Super Deluxe Denim Pant</td>\n",
       "      <td>$45.99</td>\n",
       "      <td>Kikwear</td>\n",
       "      <td>5.0</td>\n",
       "      <td>They're Kikwear..we all know how they fit if y...</td>\n",
       "      <td>They fit great.  The inseam was a little longe...</td>\n",
       "      <td>Reviewed in the United States on March 24, 2021</td>\n",
       "      <td>NaN</td>\n",
       "      <td>45.99</td>\n",
       "      <td>2021-03-24</td>\n",
       "      <td>$40-$50</td>\n",
       "      <td>Positive</td>\n",
       "    </tr>\n",
       "    <tr>\n",
       "      <th>4</th>\n",
       "      <td>Kikwear 32\" Super Deluxe Denim Pant</td>\n",
       "      <td>$45.99</td>\n",
       "      <td>Kikwear</td>\n",
       "      <td>5.0</td>\n",
       "      <td>built fot comfort and durability</td>\n",
       "      <td>Love em comfortable stylish built to last</td>\n",
       "      <td>Reviewed in the United States on November 20, ...</td>\n",
       "      <td>NaN</td>\n",
       "      <td>45.99</td>\n",
       "      <td>2018-11-20</td>\n",
       "      <td>$40-$50</td>\n",
       "      <td>Positive</td>\n",
       "    </tr>\n",
       "  </tbody>\n",
       "</table>\n",
       "</div>"
      ],
      "text/plain": [
       "                                   product_name            price        brand  \\\n",
       "0  Perry Ellis Men's Skinny Stretch Denim Jeans  $31.29 - $36.17  Perry Ellis   \n",
       "1  Perry Ellis Men's Skinny Stretch Denim Jeans  $31.29 - $36.17  Perry Ellis   \n",
       "2  Perry Ellis Men's Skinny Stretch Denim Jeans  $31.29 - $36.17  Perry Ellis   \n",
       "3           Kikwear 32\" Super Deluxe Denim Pant           $45.99      Kikwear   \n",
       "4           Kikwear 32\" Super Deluxe Denim Pant           $45.99      Kikwear   \n",
       "\n",
       "   review_rating                                       review_title  \\\n",
       "0            5.0                                    Worth the money   \n",
       "1            5.0                                       Fantastique!   \n",
       "2            5.0                                      Super cómodos   \n",
       "3            5.0  They're Kikwear..we all know how they fit if y...   \n",
       "4            5.0                   built fot comfort and durability   \n",
       "\n",
       "                                         review_body  \\\n",
       "0              Excellent product totally recommended   \n",
       "1  Les jeans stretch de cette marque sont fantast...   \n",
       "2                                      Super cómodos   \n",
       "3  They fit great.  The inseam was a little longe...   \n",
       "4          Love em comfortable stylish built to last   \n",
       "\n",
       "                                         review_date       size  prices  \\\n",
       "0  Reviewed in the United States on September 13,...        NaN   36.17   \n",
       "1               Reviewed in Canada on March 19, 2020  31W x 32L   36.17   \n",
       "2               Reviewed in Mexico on April 29, 2021  32W x 34L   36.17   \n",
       "3    Reviewed in the United States on March 24, 2021        NaN   45.99   \n",
       "4  Reviewed in the United States on November 20, ...        NaN   45.99   \n",
       "\n",
       "  review_dates price_groups sentiment  \n",
       "0   2020-09-13      $30-$40  Positive  \n",
       "1   2020-03-19      $30-$40  Positive  \n",
       "2   2021-04-29      $30-$40  Positive  \n",
       "3   2021-03-24      $40-$50  Positive  \n",
       "4   2018-11-20      $40-$50  Positive  "
      ]
     },
     "execution_count": 52,
     "metadata": {},
     "output_type": "execute_result"
    }
   ],
   "source": [
    "df.head()"
   ]
  },
  {
   "cell_type": "code",
   "execution_count": 53,
   "metadata": {},
   "outputs": [],
   "source": [
    "levi = df[(df['brand']=='Levi\\'s')]\n",
    "lees = df[(df['brand']=='Lee')]\n",
    "wauthn = df[(df['brand']=='Wrangler Authentics')]\n",
    "lnstraus = df[(df['brand']=='Signature by Levi Strauss & Co. Gold Label')]\n",
    "wrang = df[(df['brand']=='Wrangler')]\n",
    "dickies = df[(df['brand']=='Dickies')]\n",
    "wrw = df[(df['brand']=='Wrangler Riggs Workwear')]\n",
    "ariat = df[(df['brand']=='ARIAT')]\n",
    "zlz = df[(df['brand']=='ZLZ')]\n",
    "carh = df[(df['brand']=='Carhartt')]\n",
    "\n",
    "# you can add extra filters here to find reviews that are positive/negative"
   ]
  },
  {
   "cell_type": "code",
   "execution_count": 54,
   "metadata": {},
   "outputs": [
    {
     "name": "stdout",
     "output_type": "stream",
     "text": [
      "done\n"
     ]
    }
   ],
   "source": [
    "# Levi's\n",
    "from sklearn.feature_extraction.text import CountVectorizer\n",
    "word_vectorizer = CountVectorizer(ngram_range=(2,2), analyzer='word')\n",
    "sparse_matrix = word_vectorizer.fit_transform(levi['review_body'].values.astype('U'))\n",
    "frequencies = sum(sparse_matrix).toarray()[0]\n",
    "df1 = pd.DataFrame(frequencies, columns=['Levi_Ngram_freq'])\n",
    "df1['Levi_Ngrams'] = word_vectorizer.get_feature_names()\n",
    "df1 = df1.sort_values(df1.columns[0], ascending=False)\n",
    "df1.to_csv('df1.csv', index=False)\n",
    "print(\"done\")"
   ]
  },
  {
   "cell_type": "code",
   "execution_count": 55,
   "metadata": {},
   "outputs": [
    {
     "name": "stdout",
     "output_type": "stream",
     "text": [
      "Done\n"
     ]
    }
   ],
   "source": [
    "# Lee\n",
    "word_vectorizer = CountVectorizer(ngram_range=(2,2), analyzer='word')\n",
    "sparse_matrix = word_vectorizer.fit_transform(lees['review_body'].values.astype('U'))\n",
    "frequencies = sum(sparse_matrix).toarray()[0]\n",
    "df2 = pd.DataFrame(frequencies, columns=['Lee_Ngram_freq'])\n",
    "df2['Lee_Ngrams'] = word_vectorizer.get_feature_names()\n",
    "df2 = df2.sort_values(df2.columns[0], ascending=False)\n",
    "df2.to_csv('df2.csv', index=False)\n",
    "print(\"Done\")"
   ]
  },
  {
   "cell_type": "code",
   "execution_count": 56,
   "metadata": {},
   "outputs": [
    {
     "name": "stdout",
     "output_type": "stream",
     "text": [
      "Done\n"
     ]
    }
   ],
   "source": [
    "# Wrangler Authentics\n",
    "word_vectorizer = CountVectorizer(ngram_range=(2,2), analyzer='word')\n",
    "sparse_matrix = word_vectorizer.fit_transform(wauthn['review_body'].values.astype('U'))\n",
    "frequencies = sum(sparse_matrix).toarray()[0]\n",
    "df3 = pd.DataFrame(frequencies, columns=['Wrangler_Authentics_Ngram_freq'])\n",
    "df3['Wrangler_Authentics_Ngrams'] = word_vectorizer.get_feature_names()\n",
    "df3 = df3.sort_values(df3.columns[0], ascending=False)\n",
    "df3.to_csv('df3.csv', index=False)\n",
    "print(\"Done\")"
   ]
  },
  {
   "cell_type": "code",
   "execution_count": 57,
   "metadata": {},
   "outputs": [
    {
     "name": "stdout",
     "output_type": "stream",
     "text": [
      "Done\n"
     ]
    }
   ],
   "source": [
    "# Signature by Levi Strauss & Co. Gold Label\n",
    "word_vectorizer = CountVectorizer(ngram_range=(2,2), analyzer='word')\n",
    "sparse_matrix = word_vectorizer.fit_transform(lnstraus['review_body'].values.astype('U'))\n",
    "frequencies = sum(sparse_matrix).toarray()[0]\n",
    "df4 = pd.DataFrame(frequencies, columns=['Levi_Strauss_Ngram_freq'])\n",
    "df4['Levi_Strauss_Ngrams'] = word_vectorizer.get_feature_names()\n",
    "df4 = df4.sort_values(df4.columns[0], ascending=False)\n",
    "df4.to_csv('df4.csv', index=False)\n",
    "print(\"Done\")"
   ]
  },
  {
   "cell_type": "code",
   "execution_count": 58,
   "metadata": {},
   "outputs": [
    {
     "name": "stdout",
     "output_type": "stream",
     "text": [
      "Done\n"
     ]
    }
   ],
   "source": [
    "# Wrangler\n",
    "word_vectorizer = CountVectorizer(ngram_range=(2,2), analyzer='word')\n",
    "sparse_matrix = word_vectorizer.fit_transform(wrang['review_body'].values.astype('U'))\n",
    "frequencies = sum(sparse_matrix).toarray()[0]\n",
    "df5 = pd.DataFrame(frequencies, columns=['Wrangler_Ngram_freq'])\n",
    "df5['Wrangler_Ngrams'] = word_vectorizer.get_feature_names()\n",
    "df5 = df5.sort_values(df5.columns[0], ascending=False)\n",
    "df5.to_csv('df5.csv', index=False)\n",
    "print(\"Done\")"
   ]
  },
  {
   "cell_type": "code",
   "execution_count": 59,
   "metadata": {},
   "outputs": [
    {
     "name": "stdout",
     "output_type": "stream",
     "text": [
      "Done\n"
     ]
    }
   ],
   "source": [
    "# Dickies\n",
    "word_vectorizer = CountVectorizer(ngram_range=(2,2), analyzer='word')\n",
    "sparse_matrix = word_vectorizer.fit_transform(dickies['review_body'].values.astype('U'))\n",
    "frequencies = sum(sparse_matrix).toarray()[0]\n",
    "df6 = pd.DataFrame(frequencies, columns=['Dickies_Ngram_freq'])\n",
    "df6['Dickies_Ngrams'] = word_vectorizer.get_feature_names()\n",
    "df6 = df6.sort_values(df6.columns[0], ascending=False)\n",
    "df6.to_csv('df6.csv', index=False)\n",
    "print(\"Done\")"
   ]
  },
  {
   "cell_type": "code",
   "execution_count": 60,
   "metadata": {},
   "outputs": [
    {
     "name": "stdout",
     "output_type": "stream",
     "text": [
      "Done\n"
     ]
    }
   ],
   "source": [
    "# Wrangler Riggs Workwear\n",
    "word_vectorizer = CountVectorizer(ngram_range=(2,2), analyzer='word')\n",
    "sparse_matrix = word_vectorizer.fit_transform(wrw['review_body'].values.astype('U'))\n",
    "frequencies = sum(sparse_matrix).toarray()[0]\n",
    "df7 = pd.DataFrame(frequencies, columns=['Wrangler_Riggs_Ngram_freq'])\n",
    "df7['Wrangler_Riggs_Ngrams'] = word_vectorizer.get_feature_names()\n",
    "df7 = df7.sort_values(df7.columns[0], ascending=False)\n",
    "df7.to_csv('df7.csv', index=False)\n",
    "print(\"Done\")"
   ]
  },
  {
   "cell_type": "code",
   "execution_count": 61,
   "metadata": {},
   "outputs": [
    {
     "name": "stdout",
     "output_type": "stream",
     "text": [
      "Done\n"
     ]
    }
   ],
   "source": [
    "# ARIAT\n",
    "word_vectorizer = CountVectorizer(ngram_range=(2,2), analyzer='word')\n",
    "sparse_matrix = word_vectorizer.fit_transform(ariat['review_body'].values.astype('U'))\n",
    "frequencies = sum(sparse_matrix).toarray()[0]\n",
    "df8 = pd.DataFrame(frequencies, columns=['ARIAT_Ngram_freq'])\n",
    "df8['ARIAT_Ngrams'] = word_vectorizer.get_feature_names()\n",
    "df8 = df8.sort_values(df8.columns[0], ascending=False)\n",
    "df8.to_csv('df8.csv', index=False)\n",
    "print(\"Done\")"
   ]
  },
  {
   "cell_type": "code",
   "execution_count": 62,
   "metadata": {},
   "outputs": [
    {
     "name": "stdout",
     "output_type": "stream",
     "text": [
      "Done\n"
     ]
    }
   ],
   "source": [
    "# ZLZ\n",
    "from sklearn.feature_extraction.text import CountVectorizer\n",
    "\n",
    "word_vectorizer = CountVectorizer(ngram_range=(2,2), analyzer='word')\n",
    "sparse_matrix = word_vectorizer.fit_transform(zlz['review_body'].values.astype('U'))\n",
    "frequencies = sum(sparse_matrix).toarray()[0]\n",
    "df9 = pd.DataFrame(frequencies, columns=['ZLZ_Ngram_freq'])\n",
    "df9['ZLZ_Ngrams'] = word_vectorizer.get_feature_names()\n",
    "df9 = df9.sort_values(df9.columns[0], ascending=False)\n",
    "df9.to_csv('df9.csv', index=False)\n",
    "print(\"Done\")"
   ]
  },
  {
   "cell_type": "code",
   "execution_count": 63,
   "metadata": {},
   "outputs": [
    {
     "name": "stdout",
     "output_type": "stream",
     "text": [
      "Done\n"
     ]
    }
   ],
   "source": [
    "# Carhartt\n",
    "word_vectorizer = CountVectorizer(ngram_range=(2,2), analyzer='word')\n",
    "sparse_matrix = word_vectorizer.fit_transform(carh['review_body'].values.astype('U'))\n",
    "frequencies = sum(sparse_matrix).toarray()[0]\n",
    "df10 = pd.DataFrame(frequencies, columns=['Carhartt_Ngram_freq'])\n",
    "df10['Carhartt_Ngrams'] = word_vectorizer.get_feature_names()\n",
    "df10 = df10.sort_values(df10.columns[0], ascending=False)\n",
    "df10.to_csv('df10.csv', index=False)\n",
    "print(\"Done\")"
   ]
  },
  {
   "cell_type": "code",
   "execution_count": null,
   "metadata": {},
   "outputs": [],
   "source": []
  },
  {
   "cell_type": "code",
   "execution_count": 64,
   "metadata": {},
   "outputs": [
    {
     "name": "stdout",
     "output_type": "stream",
     "text": [
      "Levi's :  39495\n",
      "Wrangler Authentics :  27516\n",
      "Lee :  12706\n",
      "Signature by Levi Strauss & Co. Gold Label :  10477\n",
      "Wrangler :  8353\n",
      "Dickies :  4726\n",
      "Wrangler Riggs Workwear :  2229\n",
      "ARIAT :  1731\n",
      "ZLZ :  1705\n",
      "Carhartt :  1322\n",
      "Cinch :  863\n",
      "Urban Star :  592\n",
      "Rustler Classic :  585\n",
      "Red Kap :  548\n",
      "Jack & Jones :  531\n",
      "Buffalo David Bitton :  496\n",
      "Silver Jeans Co. :  482\n",
      "Volcom :  449\n",
      "5.11 :  363\n",
      "Lucky Brand :  354\n",
      "Collections :  349\n",
      "Key Apparel :  303\n",
      "ETHANOL :  292\n",
      "Goodthreads :  229\n",
      "Calvin Klein :  199\n",
      "Lee Riders Indigo :  135\n",
      "Savane :  134\n",
      "Damn Near Kilt 'Em :  123\n",
      "Ariat Men's Sportswear :  101\n",
      "NORAME :  94\n",
      "Vertx :  82\n",
      "ATG by Wrangler :  81\n",
      "AITITIA :  79\n",
      "Full Blue :  78\n",
      "True Religion :  77\n",
      "Jean-Paul Germain :  71\n",
      "Mavi :  68\n",
      "Tommy Hilfiger :  67\n",
      "AG Adriano Goldschmied :  66\n",
      "Haggar :  56\n",
      "Replay :  56\n",
      "Rock & Republic :  54\n",
      "Heels & Jeans :  53\n",
      "Eddie Bauer :  47\n",
      "Dockers :  46\n",
      "Sean John :  37\n",
      "Rock & Roll Denim :  36\n",
      "Joe's Jeans :  28\n",
      "BLEECKER & MERCER :  28\n",
      "LAPCOFR :  27\n",
      "Hold-Up Suspender Co. :  23\n",
      "S-JACOL :  21\n",
      "True Nation :  20\n",
      "Weatherproof :  20\n",
      "LA Police Gear :  18\n",
      "Kikwear :  15\n",
      "Southpole :  14\n",
      "Nudie Jeans :  12\n",
      "Victorious :  11\n",
      "JLLDS LKMQA :  10\n",
      "Nat Nast :  10\n",
      "LONGBIDA :  10\n",
      "Trigen & Tellason :  8\n",
      "WULFUL :  8\n",
      "AX Armani Exchange :  7\n",
      "Lavnis :  7\n",
      "PAIGE :  6\n",
      "Scotch & Soda :  5\n",
      "MAC Jeans :  5\n",
      "WISHPIG :  4\n",
      "Brash Tactical :  3\n",
      "Perry Ellis :  3\n",
      "7 For All Mankind :  3\n",
      "U.S. Polo Assn. :  3\n"
     ]
    }
   ],
   "source": [
    "for i, ii in df['brand'].value_counts().items():\n",
    "    print(i, ': ', ii)"
   ]
  },
  {
   "cell_type": "code",
   "execution_count": 6,
   "metadata": {},
   "outputs": [],
   "source": [
    "df = pd.read_csv('jean_reviews5.csv')\n"
   ]
  },
  {
   "cell_type": "code",
   "execution_count": 7,
   "metadata": {},
   "outputs": [
    {
     "name": "stdout",
     "output_type": "stream",
     "text": [
      "4.197013418584108\n"
     ]
    }
   ],
   "source": [
    "print(df['review_rating'].mean())"
   ]
  },
  {
   "cell_type": "code",
   "execution_count": 4,
   "metadata": {},
   "outputs": [],
   "source": [
    "df1 = df1.iloc[ [16, 20, 33, 37, 54, 61, 63, 70, 93] ]"
   ]
  },
  {
   "cell_type": "code",
   "execution_count": 5,
   "metadata": {},
   "outputs": [],
   "source": [
    "df1.to_csv('df1.csv', index=False)"
   ]
  },
  {
   "cell_type": "code",
   "execution_count": null,
   "metadata": {},
   "outputs": [],
   "source": []
  },
  {
   "cell_type": "code",
   "execution_count": null,
   "metadata": {},
   "outputs": [],
   "source": []
  },
  {
   "cell_type": "code",
   "execution_count": null,
   "metadata": {},
   "outputs": [],
   "source": []
  },
  {
   "cell_type": "code",
   "execution_count": 4,
   "metadata": {},
   "outputs": [],
   "source": [
    "freqq = pd.read_csv('freq.csv')"
   ]
  },
  {
   "cell_type": "code",
   "execution_count": null,
   "metadata": {},
   "outputs": [],
   "source": []
  }
 ],
 "metadata": {
  "kernelspec": {
   "display_name": "Python 3",
   "language": "python",
   "name": "python3"
  },
  "language_info": {
   "codemirror_mode": {
    "name": "ipython",
    "version": 3
   },
   "file_extension": ".py",
   "mimetype": "text/x-python",
   "name": "python",
   "nbconvert_exporter": "python",
   "pygments_lexer": "ipython3",
   "version": "3.8.3"
  }
 },
 "nbformat": 4,
 "nbformat_minor": 4
}
